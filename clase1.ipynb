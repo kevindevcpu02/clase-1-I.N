{
 "cells": [
  {
   "cell_type": "code",
   "execution_count": 1,
   "metadata": {},
   "outputs": [
    {
     "name": "stdout",
     "output_type": "stream",
     "text": [
      "Nombre          Bob\n",
      "Edad             30\n",
      "Ciudad    Guayaquil\n",
      "Name: B, dtype: object\n",
      "A    25\n",
      "B    30\n",
      "C    35\n",
      "Name: Edad, dtype: int64\n",
      "  Nombre     Ciudad\n",
      "A  Alice      Quito\n",
      "B    Bob  Guayaquil\n"
     ]
    }
   ],
   "source": [
    "import pandas as pd\n",
    "\n",
    "# Crear un DataFrame\n",
    "data = pd.DataFrame({\n",
    "    \"Nombre\": [\"Alice\", \"Bob\", \"Charlie\"],\n",
    "    \"Edad\": [25, 30, 35],\n",
    "    \"Ciudad\": [\"Quito\", \"Guayaquil\", \"Cuenca\"]\n",
    "}, index=[\"A\", \"B\", \"C\"])\n",
    "\n",
    "# Acceder a una fila usando loc\n",
    "print(data.loc[\"B\"])  \n",
    "\n",
    "# Acceder a una columna específica\n",
    "print(data.loc[:, \"Edad\"])  \n",
    "\n",
    "# Acceder a un rango de filas y columnas\n",
    "print(data.loc[\"A\":\"B\", [\"Nombre\", \"Ciudad\"]])\n"
   ]
  },
  {
   "cell_type": "code",
   "execution_count": 2,
   "metadata": {},
   "outputs": [
    {
     "name": "stdout",
     "output_type": "stream",
     "text": [
      "[2, 4, 6]\n"
     ]
    }
   ],
   "source": [
    "numeros = [1, 2, 3, 4, 5, 6]\n",
    "pares = list(filter(lambda x: x % 2 == 0, numeros))\n",
    "print(pares)  # Salida: [2, 4, 6]\n"
   ]
  },
  {
   "cell_type": "code",
   "execution_count": 3,
   "metadata": {},
   "outputs": [
    {
     "name": "stdout",
     "output_type": "stream",
     "text": [
      "1984 - George Orwell (⭐ 4.9)\n",
      "El Principito - Antoine de Saint-Exupéry (⭐ 4.8)\n",
      "Cien años de soledad - Gabriel García Márquez (⭐ 4.7)\n",
      "Moby Dick - Herman Melville (⭐ 4.6)\n"
     ]
    }
   ],
   "source": [
    "libros = [\n",
    "    {\"titulo\": \"El Principito\", \"autor\": \"Antoine de Saint-Exupéry\", \"rating\": 4.8},\n",
    "    {\"titulo\": \"1984\", \"autor\": \"George Orwell\", \"rating\": 4.9},\n",
    "    {\"titulo\": \"Cien años de soledad\", \"autor\": \"Gabriel García Márquez\", \"rating\": 4.7},\n",
    "    {\"titulo\": \"Moby Dick\", \"autor\": \"Herman Melville\", \"rating\": 4.6},\n",
    "]\n",
    "\n",
    "# Ordenar los libros por rating de mayor a menor usando lambda\n",
    "libros_ordenados = sorted(libros, key=lambda libro: libro[\"rating\"], reverse=True)\n",
    "\n",
    "# Mostrar el resultado\n",
    "for libro in libros_ordenados:\n",
    "    print(f\"{libro['titulo']} - {libro['autor']} (⭐ {libro['rating']})\")\n"
   ]
  },
  {
   "cell_type": "code",
   "execution_count": 4,
   "metadata": {},
   "outputs": [
    {
     "name": "stdout",
     "output_type": "stream",
     "text": [
      "📚 Libros con descuento:\n",
      "El Principito - Antoine de Saint-Exupéry (⭐ 4.8) 💰 $14.39\n",
      "1984 - George Orwell (⭐ 4.9) 💰 $11.25\n",
      "Cien años de soledad - Gabriel García Márquez (⭐ 4.7) 💰 $16.88\n",
      "Don Quijote - Miguel de Cervantes (⭐ 4.6) 💰 $19.8\n",
      "\n",
      "💵 Precio total después del descuento: $62.31999999999999\n"
     ]
    }
   ],
   "source": [
    "from functools import reduce\n",
    "\n",
    "libros = [\n",
    "    {\"titulo\": \"El Principito\", \"autor\": \"Antoine de Saint-Exupéry\", \"rating\": 4.8, \"precio\": 15.99},\n",
    "    {\"titulo\": \"1984\", \"autor\": \"George Orwell\", \"rating\": 4.9, \"precio\": 12.50},\n",
    "    {\"titulo\": \"Cien años de soledad\", \"autor\": \"Gabriel García Márquez\", \"rating\": 4.7, \"precio\": 18.75},\n",
    "    {\"titulo\": \"Moby Dick\", \"autor\": \"Herman Melville\", \"rating\": 4.3, \"precio\": 10.00},\n",
    "    {\"titulo\": \"Don Quijote\", \"autor\": \"Miguel de Cervantes\", \"rating\": 4.6, \"precio\": 22.00},\n",
    "]\n",
    "\n",
    "# 🔹 1. Filtrar los libros con rating > 4.5\n",
    "libros_filtrados = list(filter(lambda libro: libro[\"rating\"] > 4.5, libros))\n",
    "\n",
    "# 🔹 2. Aplicar descuento del 10% a los precios\n",
    "libros_descuento = list(map(lambda libro: {**libro, \"precio\": round(libro[\"precio\"] * 0.9, 2)}, libros_filtrados))\n",
    "\n",
    "# 🔹 3. Calcular el precio total de los libros después del descuento\n",
    "precio_total = reduce(lambda acc, libro: acc + libro[\"precio\"], libros_descuento, 0)\n",
    "\n",
    "# Mostrar los libros después del filtro y descuento\n",
    "print(\"📚 Libros con descuento:\")\n",
    "for libro in libros_descuento:\n",
    "    print(f\"{libro['titulo']} - {libro['autor']} (⭐ {libro['rating']}) 💰 ${libro['precio']}\")\n",
    "\n",
    "# Mostrar el total\n",
    "print(f\"\\n💵 Precio total después del descuento: ${precio_total}\")\n"
   ]
  },
  {
   "cell_type": "code",
   "execution_count": 5,
   "metadata": {},
   "outputs": [
    {
     "name": "stdout",
     "output_type": "stream",
     "text": [
      "📚 Libros procesados:\n",
      "1984 - George Orwell (⭐ 4.9) 💰 $10.62\n",
      "El Principito - Antoine de Saint-Exupéry (⭐ 4.8) 💰 $13.59\n",
      "Cien años de soledad - Gabriel García Márquez (⭐ 4.7) 💰 $15.94\n",
      "Don Quijote - Miguel de Cervantes (⭐ 4.6) 💰 $19.8\n",
      "\n",
      "💵 Precio total con IVA (12%): $67.14\n"
     ]
    }
   ],
   "source": [
    "from functools import reduce, partial\n",
    "from operator import itemgetter\n",
    "\n",
    "# Función para componer múltiples funciones (pipeline funcional)\n",
    "def compose(*funcs):\n",
    "    def composed_func(data):\n",
    "        for func in reversed(funcs):\n",
    "            data = func(data)\n",
    "        return data\n",
    "    return composed_func\n",
    "\n",
    "# Datos: lista de libros con título, autor, rating y precio\n",
    "libros = [\n",
    "    {\"titulo\": \"El Principito\", \"autor\": \"Antoine de Saint-Exupéry\", \"rating\": 4.8, \"precio\": 15.99},\n",
    "    {\"titulo\": \"1984\", \"autor\": \"George Orwell\", \"rating\": 4.9, \"precio\": 12.50},\n",
    "    {\"titulo\": \"Cien años de soledad\", \"autor\": \"Gabriel García Márquez\", \"rating\": 4.7, \"precio\": 18.75},\n",
    "    {\"titulo\": \"Moby Dick\", \"autor\": \"Herman Melville\", \"rating\": 4.3, \"precio\": 10.00},\n",
    "    {\"titulo\": \"Don Quijote\", \"autor\": \"Miguel de Cervantes\", \"rating\": 4.6, \"precio\": 22.00},\n",
    "]\n",
    "\n",
    "# 1️⃣ Filtrar libros con rating > 4.5\n",
    "filtrar_libros = lambda libros: list(filter(lambda libro: libro[\"rating\"] > 4.5, libros))\n",
    "\n",
    "# 2️⃣ Aplicar descuento variable basado en el rating\n",
    "def aplicar_descuento(libro):\n",
    "    descuento = 0.1 if libro[\"rating\"] < 4.7 else 0.15  # 10% si rating < 4.7, sino 15%\n",
    "    nuevo_precio = round(libro[\"precio\"] * (1 - descuento), 2)\n",
    "    return {**libro, \"precio\": nuevo_precio}\n",
    "\n",
    "aplicar_descuento_a_lista = lambda libros: list(map(aplicar_descuento, libros))\n",
    "\n",
    "# 3️⃣ Ordenar por precio después del descuento\n",
    "ordenar_por_precio = lambda libros: sorted(libros, key=itemgetter(\"precio\"))\n",
    "\n",
    "# 4️⃣ Calcular el precio total con impuestos (IVA 12%)\n",
    "calcular_total = lambda libros: round(reduce(lambda acc, libro: acc + libro[\"precio\"], libros, 0) * 1.12, 2)\n",
    "\n",
    "# 🔥 **Pipeline funcional**\n",
    "pipeline = compose(\n",
    "    filtrar_libros,          # Filtrar libros con rating > 4.5\n",
    "    aplicar_descuento_a_lista, # Aplicar descuentos\n",
    "    ordenar_por_precio,      # Ordenar por precio\n",
    ")\n",
    "\n",
    "# 🚀 **Ejecutar el pipeline**\n",
    "libros_procesados = pipeline(libros)\n",
    "total_con_iva = calcular_total(libros_procesados)\n",
    "\n",
    "# 📌 **Mostrar resultado**\n",
    "print(\"📚 Libros procesados:\")\n",
    "for libro in libros_procesados:\n",
    "    print(f\"{libro['titulo']} - {libro['autor']} (⭐ {libro['rating']}) 💰 ${libro['precio']}\")\n",
    "\n",
    "print(f\"\\n💵 Precio total con IVA (12%): ${total_con_iva}\")\n"
   ]
  }
 ],
 "metadata": {
  "kernelspec": {
   "display_name": "Python 3",
   "language": "python",
   "name": "python3"
  },
  "language_info": {
   "codemirror_mode": {
    "name": "ipython",
    "version": 3
   },
   "file_extension": ".py",
   "mimetype": "text/x-python",
   "name": "python",
   "nbconvert_exporter": "python",
   "pygments_lexer": "ipython3",
   "version": "3.12.1"
  }
 },
 "nbformat": 4,
 "nbformat_minor": 2
}
